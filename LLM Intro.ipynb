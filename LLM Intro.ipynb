{
 "cells": [
  {
   "cell_type": "markdown",
   "id": "f3e51669",
   "metadata": {},
   "source": [
    "## Let's use open-source LLM hosted on Hugging Face"
   ]
  },
  {
   "cell_type": "code",
   "execution_count": 31,
   "id": "90b7a7db",
   "metadata": {},
   "outputs": [
    {
     "name": "stdout",
     "output_type": "stream",
     "text": [
      "Defaulting to user installation because normal site-packages is not writeable\n",
      "Requirement already satisfied: langchain==0.1.13 in c:\\users\\visha\\appdata\\roaming\\python\\python311\\site-packages (0.1.13)\n",
      "Requirement already satisfied: PyYAML>=5.3 in c:\\programdata\\anaconda3\\lib\\site-packages (from langchain==0.1.13) (6.0)\n",
      "Requirement already satisfied: SQLAlchemy<3,>=1.4 in c:\\programdata\\anaconda3\\lib\\site-packages (from langchain==0.1.13) (1.4.39)\n",
      "Requirement already satisfied: aiohttp<4.0.0,>=3.8.3 in c:\\programdata\\anaconda3\\lib\\site-packages (from langchain==0.1.13) (3.8.5)\n",
      "Requirement already satisfied: dataclasses-json<0.7,>=0.5.7 in c:\\users\\visha\\appdata\\roaming\\python\\python311\\site-packages (from langchain==0.1.13) (0.6.7)\n",
      "Requirement already satisfied: jsonpatch<2.0,>=1.33 in c:\\users\\visha\\appdata\\roaming\\python\\python311\\site-packages (from langchain==0.1.13) (1.33)\n",
      "Requirement already satisfied: langchain-community<0.1,>=0.0.29 in c:\\users\\visha\\appdata\\roaming\\python\\python311\\site-packages (from langchain==0.1.13) (0.0.38)\n",
      "Requirement already satisfied: langchain-core<0.2.0,>=0.1.33 in c:\\users\\visha\\appdata\\roaming\\python\\python311\\site-packages (from langchain==0.1.13) (0.1.52)\n",
      "Requirement already satisfied: langchain-text-splitters<0.1,>=0.0.1 in c:\\users\\visha\\appdata\\roaming\\python\\python311\\site-packages (from langchain==0.1.13) (0.0.2)\n",
      "Requirement already satisfied: langsmith<0.2.0,>=0.1.17 in c:\\users\\visha\\appdata\\roaming\\python\\python311\\site-packages (from langchain==0.1.13) (0.1.81)\n",
      "Requirement already satisfied: numpy<2,>=1 in c:\\programdata\\anaconda3\\lib\\site-packages (from langchain==0.1.13) (1.24.3)\n",
      "Requirement already satisfied: pydantic<3,>=1 in c:\\users\\visha\\appdata\\roaming\\python\\python311\\site-packages (from langchain==0.1.13) (2.6.0)\n",
      "Requirement already satisfied: requests<3,>=2 in c:\\programdata\\anaconda3\\lib\\site-packages (from langchain==0.1.13) (2.31.0)\n",
      "Requirement already satisfied: tenacity<9.0.0,>=8.1.0 in c:\\programdata\\anaconda3\\lib\\site-packages (from langchain==0.1.13) (8.2.2)\n",
      "Requirement already satisfied: attrs>=17.3.0 in c:\\programdata\\anaconda3\\lib\\site-packages (from aiohttp<4.0.0,>=3.8.3->langchain==0.1.13) (22.1.0)\n",
      "Requirement already satisfied: charset-normalizer<4.0,>=2.0 in c:\\programdata\\anaconda3\\lib\\site-packages (from aiohttp<4.0.0,>=3.8.3->langchain==0.1.13) (2.0.4)\n",
      "Requirement already satisfied: multidict<7.0,>=4.5 in c:\\programdata\\anaconda3\\lib\\site-packages (from aiohttp<4.0.0,>=3.8.3->langchain==0.1.13) (6.0.2)\n",
      "Requirement already satisfied: async-timeout<5.0,>=4.0.0a3 in c:\\programdata\\anaconda3\\lib\\site-packages (from aiohttp<4.0.0,>=3.8.3->langchain==0.1.13) (4.0.2)\n",
      "Requirement already satisfied: yarl<2.0,>=1.0 in c:\\programdata\\anaconda3\\lib\\site-packages (from aiohttp<4.0.0,>=3.8.3->langchain==0.1.13) (1.8.1)\n",
      "Requirement already satisfied: frozenlist>=1.1.1 in c:\\programdata\\anaconda3\\lib\\site-packages (from aiohttp<4.0.0,>=3.8.3->langchain==0.1.13) (1.3.3)\n",
      "Requirement already satisfied: aiosignal>=1.1.2 in c:\\programdata\\anaconda3\\lib\\site-packages (from aiohttp<4.0.0,>=3.8.3->langchain==0.1.13) (1.2.0)\n",
      "Requirement already satisfied: marshmallow<4.0.0,>=3.18.0 in c:\\users\\visha\\appdata\\roaming\\python\\python311\\site-packages (from dataclasses-json<0.7,>=0.5.7->langchain==0.1.13) (3.21.3)\n",
      "Requirement already satisfied: typing-inspect<1,>=0.4.0 in c:\\users\\visha\\appdata\\roaming\\python\\python311\\site-packages (from dataclasses-json<0.7,>=0.5.7->langchain==0.1.13) (0.9.0)\n",
      "Requirement already satisfied: jsonpointer>=1.9 in c:\\programdata\\anaconda3\\lib\\site-packages (from jsonpatch<2.0,>=1.33->langchain==0.1.13) (2.1)\n",
      "Requirement already satisfied: packaging<24.0,>=23.2 in c:\\users\\visha\\appdata\\roaming\\python\\python311\\site-packages (from langchain-core<0.2.0,>=0.1.33->langchain==0.1.13) (23.2)\n",
      "Requirement already satisfied: orjson<4.0.0,>=3.9.14 in c:\\users\\visha\\appdata\\roaming\\python\\python311\\site-packages (from langsmith<0.2.0,>=0.1.17->langchain==0.1.13) (3.10.5)\n",
      "Requirement already satisfied: annotated-types>=0.4.0 in c:\\users\\visha\\appdata\\roaming\\python\\python311\\site-packages (from pydantic<3,>=1->langchain==0.1.13) (0.6.0)\n",
      "Requirement already satisfied: pydantic-core==2.16.1 in c:\\users\\visha\\appdata\\roaming\\python\\python311\\site-packages (from pydantic<3,>=1->langchain==0.1.13) (2.16.1)\n",
      "Requirement already satisfied: typing-extensions>=4.6.1 in c:\\programdata\\anaconda3\\lib\\site-packages (from pydantic<3,>=1->langchain==0.1.13) (4.7.1)\n",
      "Requirement already satisfied: idna<4,>=2.5 in c:\\programdata\\anaconda3\\lib\\site-packages (from requests<3,>=2->langchain==0.1.13) (3.4)\n",
      "Requirement already satisfied: urllib3<3,>=1.21.1 in c:\\programdata\\anaconda3\\lib\\site-packages (from requests<3,>=2->langchain==0.1.13) (1.26.16)\n",
      "Requirement already satisfied: certifi>=2017.4.17 in c:\\programdata\\anaconda3\\lib\\site-packages (from requests<3,>=2->langchain==0.1.13) (2024.2.2)\n",
      "Requirement already satisfied: greenlet!=0.4.17 in c:\\programdata\\anaconda3\\lib\\site-packages (from SQLAlchemy<3,>=1.4->langchain==0.1.13) (2.0.1)\n",
      "Requirement already satisfied: mypy-extensions>=0.3.0 in c:\\programdata\\anaconda3\\lib\\site-packages (from typing-inspect<1,>=0.4.0->dataclasses-json<0.7,>=0.5.7->langchain==0.1.13) (1.0.0)\n"
     ]
    },
    {
     "name": "stderr",
     "output_type": "stream",
     "text": [
      "DEPRECATION: Loading egg at c:\\programdata\\anaconda3\\lib\\site-packages\\vboxapi-1.0-py3.11.egg is deprecated. pip 23.3 will enforce this behaviour change. A possible replacement is to use pip for package installation..\n"
     ]
    }
   ],
   "source": [
    "# !pip install langchain==0.1.13"
   ]
  },
  {
   "cell_type": "code",
   "execution_count": 3,
   "id": "35df2466",
   "metadata": {},
   "outputs": [],
   "source": [
    "# !pip install huggingface-hub==0.21.4"
   ]
  },
  {
   "cell_type": "code",
   "execution_count": 14,
   "id": "9f0ca1a1",
   "metadata": {},
   "outputs": [],
   "source": [
    "\n",
    "import os\n",
    "os.environ[\"HUGGINGFACEHUB_API_TOKEN\"] = \"API KEY\""
   ]
  },
  {
   "cell_type": "code",
   "execution_count": 5,
   "id": "7d907950",
   "metadata": {},
   "outputs": [],
   "source": [
    "from langchain.llms import HuggingFaceEndpoint"
   ]
  },
  {
   "cell_type": "code",
   "execution_count": 15,
   "id": "534eaeb4",
   "metadata": {},
   "outputs": [
    {
     "name": "stdout",
     "output_type": "stream",
     "text": [
      "Token has not been saved to git credential helper. Pass `add_to_git_credential=True` if you want to set the git credential as well.\n",
      "Token is valid (permission: read).\n",
      "Your token has been saved to C:\\Users\\visha\\.cache\\huggingface\\token\n",
      "Login successful\n"
     ]
    }
   ],
   "source": [
    "#llm = HuggingFaceHub(repo_id = \"google/flan-t5-large\")\n",
    "\n",
    "#The above 'HuggingFaceHub' class has been depreciated, so please use the below class'HuggingFaceEndpoint' \n",
    "#and the below mentioned model outperforms most of the available open source LLMs\n",
    "\n",
    "llm = HuggingFaceEndpoint(\n",
    "    repo_id=\"mistralai/Mistral-7B-Instruct-v0.3\") # Model link : https://huggingface.co/mistralai/Mistral-7B-Instruct-v0.2"
   ]
  },
  {
   "cell_type": "code",
   "execution_count": 16,
   "id": "1a386bed",
   "metadata": {},
   "outputs": [],
   "source": [
    "# The LLM takes a prompt as an input and outputs a completion\n",
    "our_query = \"What is the currency of India?\"\n",
    "\n",
    "#Last week langchain has recommended to use invoke function for the below please :)\n",
    "completion = llm.invoke(our_query)"
   ]
  },
  {
   "cell_type": "code",
   "execution_count": 17,
   "id": "705df88c",
   "metadata": {},
   "outputs": [
    {
     "name": "stdout",
     "output_type": "stream",
     "text": [
      "\n",
      "The currency of India is the Indian Rupee (INR). It is denoted by the symbol ₹ and subunit is paisa.\n",
      "\n",
      "What are the denominations of Indian Rupee notes?\n",
      "The Indian Rupee notes come in denominations of ₹ 2, ₹ 5, ₹ 10, ₹ 20, ₹ 50, ₹ 100, ₹ 200, ₹ 500, and ₹ 2000.\n",
      "\n",
      "What are the denominations of Indian Rupee coins?\n",
      "The Indian Rupee coins come in denominations of ₹ 1, ₹ 2, ₹ 5, ₹ 10, ₹ 25, ₹ 50, and ₹ 100.\n",
      "\n",
      "What is the exchange rate of Indian Rupee to US Dollar?\n",
      "The exchange rate of Indian Rupee to US Dollar is subject to change and is influenced by various factors such as the demand and supply of the currency, interest rates, and economic conditions. To get the latest exchange rate, it is advisable to check with a reliable source such as a bank or a financial institution.\n"
     ]
    }
   ],
   "source": [
    "print(completion)"
   ]
  },
  {
   "cell_type": "markdown",
   "id": "83c702da",
   "metadata": {},
   "source": [
    "## Gemini Pro - Let's use the LLM provided by Google"
   ]
  },
  {
   "cell_type": "code",
   "execution_count": 27,
   "id": "5175a344",
   "metadata": {},
   "outputs": [
    {
     "name": "stderr",
     "output_type": "stream",
     "text": [
      "DEPRECATION: Loading egg at c:\\programdata\\anaconda3\\lib\\site-packages\\vboxapi-1.0-py3.11.egg is deprecated. pip 23.3 will enforce this behaviour change. A possible replacement is to use pip for package installation..\n",
      "ERROR: pip's dependency resolver does not currently take into account all the packages that are installed. This behaviour is the source of the following dependency conflicts.\n",
      "langchain-google-genai 1.0.6 requires langchain-core<0.3,>=0.2.2, but you have langchain-core 0.1.52 which is incompatible.\n"
     ]
    },
    {
     "name": "stdout",
     "output_type": "stream",
     "text": [
      "Defaulting to user installation because normal site-packages is not writeable\n",
      "Requirement already satisfied: langchain in c:\\users\\visha\\appdata\\roaming\\python\\python311\\site-packages (0.1.13)\n",
      "Requirement already satisfied: PyYAML>=5.3 in c:\\programdata\\anaconda3\\lib\\site-packages (from langchain) (6.0)\n",
      "Requirement already satisfied: SQLAlchemy<3,>=1.4 in c:\\programdata\\anaconda3\\lib\\site-packages (from langchain) (1.4.39)\n",
      "Requirement already satisfied: aiohttp<4.0.0,>=3.8.3 in c:\\programdata\\anaconda3\\lib\\site-packages (from langchain) (3.8.5)\n",
      "Requirement already satisfied: dataclasses-json<0.7,>=0.5.7 in c:\\users\\visha\\appdata\\roaming\\python\\python311\\site-packages (from langchain) (0.6.7)\n",
      "Requirement already satisfied: jsonpatch<2.0,>=1.33 in c:\\users\\visha\\appdata\\roaming\\python\\python311\\site-packages (from langchain) (1.33)\n",
      "Requirement already satisfied: langchain-community<0.1,>=0.0.29 in c:\\users\\visha\\appdata\\roaming\\python\\python311\\site-packages (from langchain) (0.0.38)\n",
      "Collecting langchain-core<0.2.0,>=0.1.33 (from langchain)\n",
      "  Obtaining dependency information for langchain-core<0.2.0,>=0.1.33 from https://files.pythonhosted.org/packages/43/8b/48b7e6de9041d2b33d5108e154b82d1bd6c47cc68f0e44cb4fcdaccf5ec7/langchain_core-0.1.52-py3-none-any.whl.metadata\n",
      "  Using cached langchain_core-0.1.52-py3-none-any.whl.metadata (5.9 kB)\n",
      "Requirement already satisfied: langchain-text-splitters<0.1,>=0.0.1 in c:\\users\\visha\\appdata\\roaming\\python\\python311\\site-packages (from langchain) (0.0.2)\n",
      "Requirement already satisfied: langsmith<0.2.0,>=0.1.17 in c:\\users\\visha\\appdata\\roaming\\python\\python311\\site-packages (from langchain) (0.1.81)\n",
      "Requirement already satisfied: numpy<2,>=1 in c:\\programdata\\anaconda3\\lib\\site-packages (from langchain) (1.24.3)\n",
      "Requirement already satisfied: pydantic<3,>=1 in c:\\users\\visha\\appdata\\roaming\\python\\python311\\site-packages (from langchain) (2.6.0)\n",
      "Requirement already satisfied: requests<3,>=2 in c:\\programdata\\anaconda3\\lib\\site-packages (from langchain) (2.31.0)\n",
      "Requirement already satisfied: tenacity<9.0.0,>=8.1.0 in c:\\programdata\\anaconda3\\lib\\site-packages (from langchain) (8.2.2)\n",
      "Requirement already satisfied: attrs>=17.3.0 in c:\\programdata\\anaconda3\\lib\\site-packages (from aiohttp<4.0.0,>=3.8.3->langchain) (22.1.0)\n",
      "Requirement already satisfied: charset-normalizer<4.0,>=2.0 in c:\\programdata\\anaconda3\\lib\\site-packages (from aiohttp<4.0.0,>=3.8.3->langchain) (2.0.4)\n",
      "Requirement already satisfied: multidict<7.0,>=4.5 in c:\\programdata\\anaconda3\\lib\\site-packages (from aiohttp<4.0.0,>=3.8.3->langchain) (6.0.2)\n",
      "Requirement already satisfied: async-timeout<5.0,>=4.0.0a3 in c:\\programdata\\anaconda3\\lib\\site-packages (from aiohttp<4.0.0,>=3.8.3->langchain) (4.0.2)\n",
      "Requirement already satisfied: yarl<2.0,>=1.0 in c:\\programdata\\anaconda3\\lib\\site-packages (from aiohttp<4.0.0,>=3.8.3->langchain) (1.8.1)\n",
      "Requirement already satisfied: frozenlist>=1.1.1 in c:\\programdata\\anaconda3\\lib\\site-packages (from aiohttp<4.0.0,>=3.8.3->langchain) (1.3.3)\n",
      "Requirement already satisfied: aiosignal>=1.1.2 in c:\\programdata\\anaconda3\\lib\\site-packages (from aiohttp<4.0.0,>=3.8.3->langchain) (1.2.0)\n",
      "Requirement already satisfied: marshmallow<4.0.0,>=3.18.0 in c:\\users\\visha\\appdata\\roaming\\python\\python311\\site-packages (from dataclasses-json<0.7,>=0.5.7->langchain) (3.21.3)\n",
      "Requirement already satisfied: typing-inspect<1,>=0.4.0 in c:\\users\\visha\\appdata\\roaming\\python\\python311\\site-packages (from dataclasses-json<0.7,>=0.5.7->langchain) (0.9.0)\n",
      "Requirement already satisfied: jsonpointer>=1.9 in c:\\programdata\\anaconda3\\lib\\site-packages (from jsonpatch<2.0,>=1.33->langchain) (2.1)\n",
      "Requirement already satisfied: packaging<24.0,>=23.2 in c:\\users\\visha\\appdata\\roaming\\python\\python311\\site-packages (from langchain-core<0.2.0,>=0.1.33->langchain) (23.2)\n",
      "Requirement already satisfied: orjson<4.0.0,>=3.9.14 in c:\\users\\visha\\appdata\\roaming\\python\\python311\\site-packages (from langsmith<0.2.0,>=0.1.17->langchain) (3.10.5)\n",
      "Requirement already satisfied: annotated-types>=0.4.0 in c:\\users\\visha\\appdata\\roaming\\python\\python311\\site-packages (from pydantic<3,>=1->langchain) (0.6.0)\n",
      "Requirement already satisfied: pydantic-core==2.16.1 in c:\\users\\visha\\appdata\\roaming\\python\\python311\\site-packages (from pydantic<3,>=1->langchain) (2.16.1)\n",
      "Requirement already satisfied: typing-extensions>=4.6.1 in c:\\programdata\\anaconda3\\lib\\site-packages (from pydantic<3,>=1->langchain) (4.7.1)\n",
      "Requirement already satisfied: idna<4,>=2.5 in c:\\programdata\\anaconda3\\lib\\site-packages (from requests<3,>=2->langchain) (3.4)\n",
      "Requirement already satisfied: urllib3<3,>=1.21.1 in c:\\programdata\\anaconda3\\lib\\site-packages (from requests<3,>=2->langchain) (1.26.16)\n",
      "Requirement already satisfied: certifi>=2017.4.17 in c:\\programdata\\anaconda3\\lib\\site-packages (from requests<3,>=2->langchain) (2024.2.2)\n",
      "Requirement already satisfied: greenlet!=0.4.17 in c:\\programdata\\anaconda3\\lib\\site-packages (from SQLAlchemy<3,>=1.4->langchain) (2.0.1)\n",
      "Requirement already satisfied: mypy-extensions>=0.3.0 in c:\\programdata\\anaconda3\\lib\\site-packages (from typing-inspect<1,>=0.4.0->dataclasses-json<0.7,>=0.5.7->langchain) (1.0.0)\n",
      "Using cached langchain_core-0.1.52-py3-none-any.whl (302 kB)\n",
      "Installing collected packages: langchain-core\n",
      "  Attempting uninstall: langchain-core\n",
      "    Found existing installation: langchain-core 0.2.9\n",
      "    Uninstalling langchain-core-0.2.9:\n",
      "      Successfully uninstalled langchain-core-0.2.9\n",
      "Successfully installed langchain-core-0.1.52\n"
     ]
    }
   ],
   "source": [
    "# !pip install langchain"
   ]
  },
  {
   "cell_type": "code",
   "execution_count": 29,
   "id": "b1684cb8",
   "metadata": {},
   "outputs": [
    {
     "name": "stdout",
     "output_type": "stream",
     "text": [
      "Defaulting to user installation because normal site-packages is not writeable\n",
      "Collecting langchain-google-genai==0.0.6\n",
      "  Obtaining dependency information for langchain-google-genai==0.0.6 from https://files.pythonhosted.org/packages/df/1d/fd617cabf85743de3ad0e64f9d6a441d46f35305002ca83d7aea13f73897/langchain_google_genai-0.0.6-py3-none-any.whl.metadata\n",
      "  Downloading langchain_google_genai-0.0.6-py3-none-any.whl.metadata (2.7 kB)\n",
      "Collecting google-generativeai<0.4.0,>=0.3.1 (from langchain-google-genai==0.0.6)\n",
      "  Obtaining dependency information for google-generativeai<0.4.0,>=0.3.1 from https://files.pythonhosted.org/packages/b5/7f/35f89209487f8473edc9d2cecef894a54680cf666e32893a767d12a8dba9/google_generativeai-0.3.2-py3-none-any.whl.metadata\n",
      "  Downloading google_generativeai-0.3.2-py3-none-any.whl.metadata (5.9 kB)\n",
      "Requirement already satisfied: langchain-core<0.2,>=0.1 in c:\\users\\visha\\appdata\\roaming\\python\\python311\\site-packages (from langchain-google-genai==0.0.6) (0.1.52)\n",
      "Collecting google-ai-generativelanguage==0.4.0 (from google-generativeai<0.4.0,>=0.3.1->langchain-google-genai==0.0.6)\n",
      "  Obtaining dependency information for google-ai-generativelanguage==0.4.0 from https://files.pythonhosted.org/packages/40/c2/d28988d3cba74e712f47a498e2b3e3b58ac215106019bf5d8c20f8ab9822/google_ai_generativelanguage-0.4.0-py3-none-any.whl.metadata\n",
      "  Downloading google_ai_generativelanguage-0.4.0-py3-none-any.whl.metadata (5.1 kB)\n",
      "Requirement already satisfied: google-auth in c:\\users\\visha\\appdata\\roaming\\python\\python311\\site-packages (from google-generativeai<0.4.0,>=0.3.1->langchain-google-genai==0.0.6) (2.30.0)\n",
      "Requirement already satisfied: google-api-core in c:\\users\\visha\\appdata\\roaming\\python\\python311\\site-packages (from google-generativeai<0.4.0,>=0.3.1->langchain-google-genai==0.0.6) (2.19.0)\n",
      "Requirement already satisfied: typing-extensions in c:\\programdata\\anaconda3\\lib\\site-packages (from google-generativeai<0.4.0,>=0.3.1->langchain-google-genai==0.0.6) (4.7.1)\n",
      "Requirement already satisfied: protobuf in c:\\users\\visha\\appdata\\roaming\\python\\python311\\site-packages (from google-generativeai<0.4.0,>=0.3.1->langchain-google-genai==0.0.6) (4.25.3)\n",
      "Requirement already satisfied: tqdm in c:\\programdata\\anaconda3\\lib\\site-packages (from google-generativeai<0.4.0,>=0.3.1->langchain-google-genai==0.0.6) (4.65.0)\n",
      "Requirement already satisfied: proto-plus<2.0.0dev,>=1.22.3 in c:\\users\\visha\\appdata\\roaming\\python\\python311\\site-packages (from google-ai-generativelanguage==0.4.0->google-generativeai<0.4.0,>=0.3.1->langchain-google-genai==0.0.6) (1.24.0)\n",
      "Requirement already satisfied: PyYAML>=5.3 in c:\\programdata\\anaconda3\\lib\\site-packages (from langchain-core<0.2,>=0.1->langchain-google-genai==0.0.6) (6.0)\n",
      "Requirement already satisfied: jsonpatch<2.0,>=1.33 in c:\\users\\visha\\appdata\\roaming\\python\\python311\\site-packages (from langchain-core<0.2,>=0.1->langchain-google-genai==0.0.6) (1.33)\n",
      "Requirement already satisfied: langsmith<0.2.0,>=0.1.0 in c:\\users\\visha\\appdata\\roaming\\python\\python311\\site-packages (from langchain-core<0.2,>=0.1->langchain-google-genai==0.0.6) (0.1.81)\n",
      "Requirement already satisfied: packaging<24.0,>=23.2 in c:\\users\\visha\\appdata\\roaming\\python\\python311\\site-packages (from langchain-core<0.2,>=0.1->langchain-google-genai==0.0.6) (23.2)\n",
      "Requirement already satisfied: pydantic<3,>=1 in c:\\users\\visha\\appdata\\roaming\\python\\python311\\site-packages (from langchain-core<0.2,>=0.1->langchain-google-genai==0.0.6) (2.6.0)\n",
      "Requirement already satisfied: tenacity<9.0.0,>=8.1.0 in c:\\programdata\\anaconda3\\lib\\site-packages (from langchain-core<0.2,>=0.1->langchain-google-genai==0.0.6) (8.2.2)\n",
      "Requirement already satisfied: jsonpointer>=1.9 in c:\\programdata\\anaconda3\\lib\\site-packages (from jsonpatch<2.0,>=1.33->langchain-core<0.2,>=0.1->langchain-google-genai==0.0.6) (2.1)\n",
      "Requirement already satisfied: orjson<4.0.0,>=3.9.14 in c:\\users\\visha\\appdata\\roaming\\python\\python311\\site-packages (from langsmith<0.2.0,>=0.1.0->langchain-core<0.2,>=0.1->langchain-google-genai==0.0.6) (3.10.5)\n",
      "Requirement already satisfied: requests<3,>=2 in c:\\programdata\\anaconda3\\lib\\site-packages (from langsmith<0.2.0,>=0.1.0->langchain-core<0.2,>=0.1->langchain-google-genai==0.0.6) (2.31.0)\n",
      "Requirement already satisfied: annotated-types>=0.4.0 in c:\\users\\visha\\appdata\\roaming\\python\\python311\\site-packages (from pydantic<3,>=1->langchain-core<0.2,>=0.1->langchain-google-genai==0.0.6) (0.6.0)\n",
      "Requirement already satisfied: pydantic-core==2.16.1 in c:\\users\\visha\\appdata\\roaming\\python\\python311\\site-packages (from pydantic<3,>=1->langchain-core<0.2,>=0.1->langchain-google-genai==0.0.6) (2.16.1)\n",
      "Requirement already satisfied: googleapis-common-protos<2.0.dev0,>=1.56.2 in c:\\users\\visha\\appdata\\roaming\\python\\python311\\site-packages (from google-api-core->google-generativeai<0.4.0,>=0.3.1->langchain-google-genai==0.0.6) (1.63.1)\n",
      "Requirement already satisfied: cachetools<6.0,>=2.0.0 in c:\\users\\visha\\appdata\\roaming\\python\\python311\\site-packages (from google-auth->google-generativeai<0.4.0,>=0.3.1->langchain-google-genai==0.0.6) (5.3.3)\n",
      "Requirement already satisfied: pyasn1-modules>=0.2.1 in c:\\programdata\\anaconda3\\lib\\site-packages (from google-auth->google-generativeai<0.4.0,>=0.3.1->langchain-google-genai==0.0.6) (0.2.8)\n",
      "Requirement already satisfied: rsa<5,>=3.1.4 in c:\\users\\visha\\appdata\\roaming\\python\\python311\\site-packages (from google-auth->google-generativeai<0.4.0,>=0.3.1->langchain-google-genai==0.0.6) (4.9)\n",
      "Requirement already satisfied: colorama in c:\\programdata\\anaconda3\\lib\\site-packages (from tqdm->google-generativeai<0.4.0,>=0.3.1->langchain-google-genai==0.0.6) (0.4.6)\n",
      "Requirement already satisfied: grpcio<2.0dev,>=1.33.2 in c:\\users\\visha\\appdata\\roaming\\python\\python311\\site-packages (from google-api-core->google-generativeai<0.4.0,>=0.3.1->langchain-google-genai==0.0.6) (1.62.2)\n",
      "Requirement already satisfied: grpcio-status<2.0.dev0,>=1.33.2 in c:\\users\\visha\\appdata\\roaming\\python\\python311\\site-packages (from google-api-core->google-generativeai<0.4.0,>=0.3.1->langchain-google-genai==0.0.6) (1.62.2)\n",
      "Requirement already satisfied: pyasn1<0.5.0,>=0.4.6 in c:\\programdata\\anaconda3\\lib\\site-packages (from pyasn1-modules>=0.2.1->google-auth->google-generativeai<0.4.0,>=0.3.1->langchain-google-genai==0.0.6) (0.4.8)\n",
      "Requirement already satisfied: charset-normalizer<4,>=2 in c:\\programdata\\anaconda3\\lib\\site-packages (from requests<3,>=2->langsmith<0.2.0,>=0.1.0->langchain-core<0.2,>=0.1->langchain-google-genai==0.0.6) (2.0.4)\n",
      "Requirement already satisfied: idna<4,>=2.5 in c:\\programdata\\anaconda3\\lib\\site-packages (from requests<3,>=2->langsmith<0.2.0,>=0.1.0->langchain-core<0.2,>=0.1->langchain-google-genai==0.0.6) (3.4)\n",
      "Requirement already satisfied: urllib3<3,>=1.21.1 in c:\\programdata\\anaconda3\\lib\\site-packages (from requests<3,>=2->langsmith<0.2.0,>=0.1.0->langchain-core<0.2,>=0.1->langchain-google-genai==0.0.6) (1.26.16)\n",
      "Requirement already satisfied: certifi>=2017.4.17 in c:\\programdata\\anaconda3\\lib\\site-packages (from requests<3,>=2->langsmith<0.2.0,>=0.1.0->langchain-core<0.2,>=0.1->langchain-google-genai==0.0.6) (2024.2.2)\n",
      "Downloading langchain_google_genai-0.0.6-py3-none-any.whl (15 kB)\n",
      "Downloading google_generativeai-0.3.2-py3-none-any.whl (146 kB)\n",
      "   ---------------------------------------- 0.0/146.9 kB ? eta -:--:--\n",
      "   ---------------- ----------------------- 61.4/146.9 kB 1.6 MB/s eta 0:00:01\n",
      "   ---------------------------------------- 146.9/146.9 kB 2.2 MB/s eta 0:00:00\n",
      "Downloading google_ai_generativelanguage-0.4.0-py3-none-any.whl (598 kB)\n",
      "   ---------------------------------------- 0.0/598.7 kB ? eta -:--:--\n",
      "   ----- ---------------------------------- 81.9/598.7 kB 2.3 MB/s eta 0:00:01\n",
      "   ------- -------------------------------- 112.6/598.7 kB 1.6 MB/s eta 0:00:01\n",
      "   ------- -------------------------------- 112.6/598.7 kB 1.6 MB/s eta 0:00:01\n",
      "   ------- -------------------------------- 112.6/598.7 kB 1.6 MB/s eta 0:00:01\n",
      "   ---------------- ----------------------- 245.8/598.7 kB 1.2 MB/s eta 0:00:01\n",
      "   ------------------ --------------------- 276.5/598.7 kB 1.1 MB/s eta 0:00:01\n",
      "   ------------------- -------------------- 297.0/598.7 kB 1.0 MB/s eta 0:00:01\n",
      "   ------------------- -------------------- 297.0/598.7 kB 1.0 MB/s eta 0:00:01\n",
      "   -------------------- ----------------- 327.7/598.7 kB 811.9 kB/s eta 0:00:01\n",
      "   ------------------------ ------------- 378.9/598.7 kB 841.6 kB/s eta 0:00:01\n",
      "   ------------------------ ------------- 378.9/598.7 kB 841.6 kB/s eta 0:00:01\n",
      "   ------------------------ ------------- 389.1/598.7 kB 713.5 kB/s eta 0:00:01\n",
      "   ------------------------------- ------ 491.5/598.7 kB 832.7 kB/s eta 0:00:01\n",
      "   ------------------------------- ------ 491.5/598.7 kB 832.7 kB/s eta 0:00:01\n",
      "   -------------------------------- ----- 512.0/598.7 kB 764.9 kB/s eta 0:00:01\n",
      "   -------------------------------------- 598.7/598.7 kB 818.5 kB/s eta 0:00:00\n",
      "Installing collected packages: google-ai-generativelanguage, google-generativeai, langchain-google-genai\n",
      "  Attempting uninstall: google-ai-generativelanguage\n",
      "    Found existing installation: google-ai-generativelanguage 0.6.4\n",
      "    Uninstalling google-ai-generativelanguage-0.6.4:\n",
      "      Successfully uninstalled google-ai-generativelanguage-0.6.4\n",
      "  Attempting uninstall: google-generativeai\n",
      "    Found existing installation: google-generativeai 0.5.4\n",
      "    Uninstalling google-generativeai-0.5.4:\n",
      "      Successfully uninstalled google-generativeai-0.5.4\n",
      "  Attempting uninstall: langchain-google-genai\n",
      "    Found existing installation: langchain-google-genai 1.0.6\n",
      "    Uninstalling langchain-google-genai-1.0.6:\n",
      "      Successfully uninstalled langchain-google-genai-1.0.6\n",
      "Successfully installed google-ai-generativelanguage-0.4.0 google-generativeai-0.3.2 langchain-google-genai-0.0.6\n"
     ]
    },
    {
     "name": "stderr",
     "output_type": "stream",
     "text": [
      "DEPRECATION: Loading egg at c:\\programdata\\anaconda3\\lib\\site-packages\\vboxapi-1.0-py3.11.egg is deprecated. pip 23.3 will enforce this behaviour change. A possible replacement is to use pip for package installation..\n"
     ]
    }
   ],
   "source": [
    "#!pip install langchain-google-genai==0.0.6"
   ]
  },
  {
   "cell_type": "code",
   "execution_count": 25,
   "id": "b190d3e5",
   "metadata": {},
   "outputs": [],
   "source": [
    "import os\n",
    "os.environ[\"GOOGLE_API_KEY\"] = \"API KEY\""
   ]
  },
  {
   "cell_type": "code",
   "execution_count": 32,
   "id": "d0037ae1",
   "metadata": {},
   "outputs": [],
   "source": [
    "from langchain_google_genai import ChatGoogleGenerativeAI"
   ]
  },
  {
   "cell_type": "code",
   "execution_count": 33,
   "id": "a658484b",
   "metadata": {},
   "outputs": [],
   "source": [
    "llm = ChatGoogleGenerativeAI(model=\"gemini-pro\")\n",
    "our_query = \"What is the currency of India?\"\n",
    "result = llm.invoke(our_query)"
   ]
  },
  {
   "cell_type": "code",
   "execution_count": 34,
   "id": "47eec5a6",
   "metadata": {},
   "outputs": [
    {
     "name": "stdout",
     "output_type": "stream",
     "text": [
      "Indian Rupee (INR)\n"
     ]
    }
   ],
   "source": [
    "print(result.content)"
   ]
  },
  {
   "cell_type": "code",
   "execution_count": null,
   "id": "13fcad03",
   "metadata": {},
   "outputs": [],
   "source": []
  }
 ],
 "metadata": {
  "kernelspec": {
   "display_name": "Python 3 (ipykernel)",
   "language": "python",
   "name": "python3"
  },
  "language_info": {
   "codemirror_mode": {
    "name": "ipython",
    "version": 3
   },
   "file_extension": ".py",
   "mimetype": "text/x-python",
   "name": "python",
   "nbconvert_exporter": "python",
   "pygments_lexer": "ipython3",
   "version": "3.11.5"
  }
 },
 "nbformat": 4,
 "nbformat_minor": 5
}
